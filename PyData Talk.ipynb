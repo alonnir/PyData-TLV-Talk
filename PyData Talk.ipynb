{
 "cells": [
  {
   "cell_type": "markdown",
   "metadata": {},
   "source": [
    "# PyData TLV - Pandas Tips & Tricks"
   ]
  },
  {
   "cell_type": "markdown",
   "metadata": {
    "collapsed": true
   },
   "source": [
    "<a id='toc'></a>\n",
    "### Table of Contents\n",
    "\n",
    "+ [About](#aboutme)\n",
    "+ [Getting started](#getstarted)\n",
    "+ [Quick Exploration & Optimizations](#quick)\n",
    " + [.info()](#info)\n",
    " + [Avoid object type](#obj)\n",
    " + [Categorize columns](#cat)\n",
    " + [Impact](#impact)\n",
    "+ [Filtering and slicing DFs](#slice)\n",
    " + [Ordered categories](#orderedcats)\n",
    " + [with regex](#regex)\n",
    "+ [Groupby](#groupby)\n",
    " + [Multiple aggfuncs](#mulaggfunc)\n",
    " + [Custom aggfuncs](#customaggfuncs)\n",
    "+ [Date manipulations without tears (hopefully)](#tears)\n",
    " + [to_period()](#toperiod)\n",
    " + [resample()](#resample)\n",
    " + [date_range()](#daterange)\n",
    " + [WoW changes](#wow)\n",
    "+ [What's new in 0.19](#19)\n",
    "+ [What's to come in 0.2?](#20)\n",
    "+ [Contact](#contact)\n",
    "+ [How I prepared the data for the talk](#massage)\n",
    "\n"
   ]
  },
  {
   "cell_type": "markdown",
   "metadata": {},
   "source": [
    "<a id='aboutme'></a>\n",
    "## About"
   ]
  },
  {
   "cell_type": "markdown",
   "metadata": {},
   "source": [
    "This notebook was created by Alon Nir ([linkedin](https://www.linkedin.com/in/alonnir/), [twitter](https://twitter.com/alonnir), [github](https://github.com/alonnir)) for presentation at the 2nd PyData TLV meetup.<br>\n",
    "Pandas' great breadth and depth means there's always another nifty tip and trick to discover. Here I share a few I use rather frequently.<br>\n",
    "\n",
    "**If you have tips and tricks of your own, please share them** with me - I'm always eager to learn.<br> \n",
    "\n",
    "Also, feel free to hit me up with a Pandas question of challenge. I don't promise I'll have all the answers, but I can try.\n",
    "\n"
   ]
  },
  {
   "cell_type": "markdown",
   "metadata": {},
   "source": [
    "<a id='getstarted'></a>\n",
    "\n",
    "## Let's get to it!"
   ]
  },
  {
   "cell_type": "markdown",
   "metadata": {},
   "source": [
    "Our data is about Airbnb listings in Seattle. <br>\n",
    "Taken from Kaggle ([link](https://www.kaggle.com/airbnb/seattle)) and originally from [Inside Airbnb](http://insideairbnb.com/get-the-data.html).<br>\n",
    "Data was massaged a little for today's presentation ([see below](#massage))."
   ]
  },
  {
   "cell_type": "code",
   "execution_count": 1,
   "metadata": {
    "collapsed": true
   },
   "outputs": [],
   "source": [
    "import pandas as pd\n",
    "import numpy as np\n",
    "import datetime"
   ]
  },
  {
   "cell_type": "markdown",
   "metadata": {},
   "source": [
    "Make sure you spend some time reading the [read_csv documentation](http://pandas.pydata.org/pandas-docs/stable/generated/pandas.read_csv.html) - lots of valuable info there for reading CSVs."
   ]
  },
  {
   "cell_type": "code",
   "execution_count": 2,
   "metadata": {
    "collapsed": false
   },
   "outputs": [
    {
     "data": {
      "text/html": [
       "<div>\n",
       "<table border=\"1\" class=\"dataframe\">\n",
       "  <thead>\n",
       "    <tr style=\"text-align: right;\">\n",
       "      <th></th>\n",
       "      <th>id</th>\n",
       "      <th>host_location</th>\n",
       "      <th>host_response_time</th>\n",
       "      <th>host_response_rate</th>\n",
       "      <th>host_acceptance_rate</th>\n",
       "      <th>host_is_superhost</th>\n",
       "      <th>host_neighbourhood</th>\n",
       "      <th>host_listings_count</th>\n",
       "      <th>host_total_listings_count</th>\n",
       "      <th>host_verifications</th>\n",
       "      <th>...</th>\n",
       "      <th>price</th>\n",
       "      <th>weekly_price</th>\n",
       "      <th>monthly_price</th>\n",
       "      <th>security_deposit</th>\n",
       "      <th>cleaning_fee</th>\n",
       "      <th>minimum_nights</th>\n",
       "      <th>number_of_reviews</th>\n",
       "      <th>first_review</th>\n",
       "      <th>last_review</th>\n",
       "      <th>date_listed</th>\n",
       "    </tr>\n",
       "  </thead>\n",
       "  <tbody>\n",
       "    <tr>\n",
       "      <th>0</th>\n",
       "      <td>241032</td>\n",
       "      <td>Seattle, Washington, United States</td>\n",
       "      <td>within a few hours</td>\n",
       "      <td>73</td>\n",
       "      <td>85</td>\n",
       "      <td>f</td>\n",
       "      <td>Queen Anne</td>\n",
       "      <td>3.0</td>\n",
       "      <td>3.0</td>\n",
       "      <td>['email', 'phone', 'reviews', 'kba']</td>\n",
       "      <td>...</td>\n",
       "      <td>85.0</td>\n",
       "      <td>595.0</td>\n",
       "      <td>2550.0</td>\n",
       "      <td>NaN</td>\n",
       "      <td>NaN</td>\n",
       "      <td>1</td>\n",
       "      <td>207</td>\n",
       "      <td>2011-11-01</td>\n",
       "      <td>2016-01-02</td>\n",
       "      <td>2016-05-30</td>\n",
       "    </tr>\n",
       "    <tr>\n",
       "      <th>1</th>\n",
       "      <td>953595</td>\n",
       "      <td>Seattle, Washington, United States</td>\n",
       "      <td>within an hour</td>\n",
       "      <td>82</td>\n",
       "      <td>77</td>\n",
       "      <td>t</td>\n",
       "      <td>Queen Anne</td>\n",
       "      <td>6.0</td>\n",
       "      <td>6.0</td>\n",
       "      <td>['email', 'phone', 'facebook', 'linkedin', 're...</td>\n",
       "      <td>...</td>\n",
       "      <td>150.0</td>\n",
       "      <td>1000.0</td>\n",
       "      <td>3000.0</td>\n",
       "      <td>100.0</td>\n",
       "      <td>40.0</td>\n",
       "      <td>2</td>\n",
       "      <td>43</td>\n",
       "      <td>2013-08-19</td>\n",
       "      <td>2015-12-29</td>\n",
       "      <td>2016-06-26</td>\n",
       "    </tr>\n",
       "    <tr>\n",
       "      <th>2</th>\n",
       "      <td>3308979</td>\n",
       "      <td>Seattle, Washington, United States</td>\n",
       "      <td>within a few hours</td>\n",
       "      <td>98</td>\n",
       "      <td>94</td>\n",
       "      <td>f</td>\n",
       "      <td>Queen Anne</td>\n",
       "      <td>2.0</td>\n",
       "      <td>2.0</td>\n",
       "      <td>['email', 'phone', 'google', 'reviews', 'jumio']</td>\n",
       "      <td>...</td>\n",
       "      <td>975.0</td>\n",
       "      <td>6825.0</td>\n",
       "      <td>29250.0</td>\n",
       "      <td>1000.0</td>\n",
       "      <td>300.0</td>\n",
       "      <td>4</td>\n",
       "      <td>20</td>\n",
       "      <td>2014-07-30</td>\n",
       "      <td>2015-09-03</td>\n",
       "      <td>2016-01-30</td>\n",
       "    </tr>\n",
       "    <tr>\n",
       "      <th>3</th>\n",
       "      <td>7421966</td>\n",
       "      <td>Seattle, Washington, United States</td>\n",
       "      <td>NaN</td>\n",
       "      <td>83</td>\n",
       "      <td>86</td>\n",
       "      <td>f</td>\n",
       "      <td>Queen Anne</td>\n",
       "      <td>1.0</td>\n",
       "      <td>1.0</td>\n",
       "      <td>['email', 'phone', 'facebook', 'reviews', 'jum...</td>\n",
       "      <td>...</td>\n",
       "      <td>100.0</td>\n",
       "      <td>650.0</td>\n",
       "      <td>2300.0</td>\n",
       "      <td>NaN</td>\n",
       "      <td>NaN</td>\n",
       "      <td>1</td>\n",
       "      <td>0</td>\n",
       "      <td>NaN</td>\n",
       "      <td>NaN</td>\n",
       "      <td>2016-01-02</td>\n",
       "    </tr>\n",
       "    <tr>\n",
       "      <th>4</th>\n",
       "      <td>278830</td>\n",
       "      <td>Seattle, Washington, United States</td>\n",
       "      <td>within an hour</td>\n",
       "      <td>88</td>\n",
       "      <td>79</td>\n",
       "      <td>f</td>\n",
       "      <td>Queen Anne</td>\n",
       "      <td>2.0</td>\n",
       "      <td>2.0</td>\n",
       "      <td>['email', 'phone', 'facebook', 'reviews', 'kba']</td>\n",
       "      <td>...</td>\n",
       "      <td>450.0</td>\n",
       "      <td>3150.0</td>\n",
       "      <td>13500.0</td>\n",
       "      <td>700.0</td>\n",
       "      <td>125.0</td>\n",
       "      <td>1</td>\n",
       "      <td>38</td>\n",
       "      <td>2012-07-10</td>\n",
       "      <td>2015-10-24</td>\n",
       "      <td>2016-07-30</td>\n",
       "    </tr>\n",
       "  </tbody>\n",
       "</table>\n",
       "<p>5 rows × 31 columns</p>\n",
       "</div>"
      ],
      "text/plain": [
       "        id                       host_location  host_response_time  \\\n",
       "0   241032  Seattle, Washington, United States  within a few hours   \n",
       "1   953595  Seattle, Washington, United States      within an hour   \n",
       "2  3308979  Seattle, Washington, United States  within a few hours   \n",
       "3  7421966  Seattle, Washington, United States                 NaN   \n",
       "4   278830  Seattle, Washington, United States      within an hour   \n",
       "\n",
       "   host_response_rate  host_acceptance_rate host_is_superhost  \\\n",
       "0                  73                    85                 f   \n",
       "1                  82                    77                 t   \n",
       "2                  98                    94                 f   \n",
       "3                  83                    86                 f   \n",
       "4                  88                    79                 f   \n",
       "\n",
       "  host_neighbourhood  host_listings_count  host_total_listings_count  \\\n",
       "0         Queen Anne                  3.0                        3.0   \n",
       "1         Queen Anne                  6.0                        6.0   \n",
       "2         Queen Anne                  2.0                        2.0   \n",
       "3         Queen Anne                  1.0                        1.0   \n",
       "4         Queen Anne                  2.0                        2.0   \n",
       "\n",
       "                                  host_verifications     ...       price  \\\n",
       "0               ['email', 'phone', 'reviews', 'kba']     ...        85.0   \n",
       "1  ['email', 'phone', 'facebook', 'linkedin', 're...     ...       150.0   \n",
       "2   ['email', 'phone', 'google', 'reviews', 'jumio']     ...       975.0   \n",
       "3  ['email', 'phone', 'facebook', 'reviews', 'jum...     ...       100.0   \n",
       "4   ['email', 'phone', 'facebook', 'reviews', 'kba']     ...       450.0   \n",
       "\n",
       "  weekly_price monthly_price security_deposit cleaning_fee minimum_nights  \\\n",
       "0        595.0        2550.0              NaN          NaN              1   \n",
       "1       1000.0        3000.0            100.0         40.0              2   \n",
       "2       6825.0       29250.0           1000.0        300.0              4   \n",
       "3        650.0        2300.0              NaN          NaN              1   \n",
       "4       3150.0       13500.0            700.0        125.0              1   \n",
       "\n",
       "   number_of_reviews  first_review  last_review  date_listed  \n",
       "0                207    2011-11-01   2016-01-02   2016-05-30  \n",
       "1                 43    2013-08-19   2015-12-29   2016-06-26  \n",
       "2                 20    2014-07-30   2015-09-03   2016-01-30  \n",
       "3                  0           NaN          NaN   2016-01-02  \n",
       "4                 38    2012-07-10   2015-10-24   2016-07-30  \n",
       "\n",
       "[5 rows x 31 columns]"
      ]
     },
     "execution_count": 2,
     "metadata": {},
     "output_type": "execute_result"
    }
   ],
   "source": [
    "airbnb_df = pd.read_csv('data/airbnb2.csv')\n",
    "\n",
    "airbnb_df.head()"
   ]
  },
  {
   "cell_type": "markdown",
   "metadata": {},
   "source": [
    "[Back to top](#toc)"
   ]
  },
  {
   "cell_type": "markdown",
   "metadata": {},
   "source": [
    "---"
   ]
  },
  {
   "cell_type": "markdown",
   "metadata": {},
   "source": [
    "<a id='quick'></a>\n",
    "## Quick Exploration & Optimizations"
   ]
  },
  {
   "cell_type": "markdown",
   "metadata": {},
   "source": [
    "<a id='info'></a>\n",
    "### .info()"
   ]
  },
  {
   "cell_type": "code",
   "execution_count": 3,
   "metadata": {
    "collapsed": false
   },
   "outputs": [
    {
     "name": "stdout",
     "output_type": "stream",
     "text": [
      "<class 'pandas.core.frame.DataFrame'>\n",
      "RangeIndex: 3810 entries, 0 to 3809\n",
      "Data columns (total 31 columns):\n",
      "id                           3810 non-null int64\n",
      "host_location                3802 non-null object\n",
      "host_response_time           3289 non-null object\n",
      "host_response_rate           3810 non-null int64\n",
      "host_acceptance_rate         3810 non-null int64\n",
      "host_is_superhost            3810 non-null object\n",
      "host_neighbourhood           3513 non-null object\n",
      "host_listings_count          3808 non-null float64\n",
      "host_total_listings_count    3808 non-null float64\n",
      "host_verifications           3810 non-null object\n",
      "host_has_profile_pic         3808 non-null object\n",
      "host_identity_verified       3808 non-null object\n",
      "city                         3810 non-null object\n",
      "state                        3810 non-null object\n",
      "property_type                3809 non-null object\n",
      "room_type                    3810 non-null object\n",
      "accommodates                 3810 non-null int64\n",
      "bathrooms                    3794 non-null float64\n",
      "bedrooms                     3804 non-null float64\n",
      "beds                         3809 non-null float64\n",
      "bed_type                     3810 non-null object\n",
      "price                        3810 non-null float64\n",
      "weekly_price                 3810 non-null float64\n",
      "monthly_price                3810 non-null float64\n",
      "security_deposit             1863 non-null float64\n",
      "cleaning_fee                 2783 non-null float64\n",
      "minimum_nights               3810 non-null int64\n",
      "number_of_reviews            3810 non-null int64\n",
      "first_review                 3184 non-null object\n",
      "last_review                  3184 non-null object\n",
      "date_listed                  3810 non-null object\n",
      "dtypes: float64(10), int64(6), object(15)\n",
      "memory usage: 3.5 MB\n"
     ]
    }
   ],
   "source": [
    "airbnb_df.info(memory_usage='deep')"
   ]
  },
  {
   "cell_type": "markdown",
   "metadata": {},
   "source": [
    "You can also use .memory_usage(deep=True) to see how much memory each field takes."
   ]
  },
  {
   "cell_type": "code",
   "execution_count": 4,
   "metadata": {
    "collapsed": false
   },
   "outputs": [
    {
     "data": {
      "text/plain": [
       "Index                            72\n",
       "id                            30480\n",
       "host_location                292369\n",
       "host_response_time           213555\n",
       "host_response_rate            30480\n",
       "host_acceptance_rate          30480\n",
       "host_is_superhost            175260\n",
       "host_neighbourhood           204661\n",
       "host_listings_count           30480\n",
       "host_total_listings_count     30480\n",
       "host_verifications           344778\n",
       "host_has_profile_pic         175232\n",
       "host_identity_verified       175232\n",
       "city                         198120\n",
       "state                        179070\n",
       "property_type                198739\n",
       "room_type                    224667\n",
       "accommodates                  30480\n",
       "bathrooms                     30480\n",
       "bedrooms                      30480\n",
       "beds                          30480\n",
       "bed_type                     201850\n",
       "price                         30480\n",
       "weekly_price                  30480\n",
       "monthly_price                 30480\n",
       "security_deposit              30480\n",
       "cleaning_fee                  30480\n",
       "minimum_nights                30480\n",
       "number_of_reviews             30480\n",
       "first_review                 195152\n",
       "last_review                  195152\n",
       "date_listed                  209550\n",
       "dtype: int64"
      ]
     },
     "execution_count": 4,
     "metadata": {},
     "output_type": "execute_result"
    }
   ],
   "source": [
    "airbnb_df.memory_usage(deep=True)"
   ]
  },
  {
   "cell_type": "markdown",
   "metadata": {},
   "source": [
    "<a id='obj'></a>\n",
    "### Avoid object types"
   ]
  },
  {
   "cell_type": "markdown",
   "metadata": {},
   "source": [
    "#### bools"
   ]
  },
  {
   "cell_type": "code",
   "execution_count": 5,
   "metadata": {
    "collapsed": false
   },
   "outputs": [
    {
     "data": {
      "text/plain": [
       "f    3033\n",
       "t     777\n",
       "Name: host_is_superhost, dtype: int64"
      ]
     },
     "execution_count": 5,
     "metadata": {},
     "output_type": "execute_result"
    }
   ],
   "source": [
    "# Example\n",
    "\n",
    "airbnb_df['host_is_superhost'].value_counts(dropna=False)"
   ]
  },
  {
   "cell_type": "code",
   "execution_count": 6,
   "metadata": {
    "collapsed": false
   },
   "outputs": [],
   "source": [
    "# Trnasform to a boolean\n",
    "# Pandas makes it so easy\n",
    "\n",
    "airbnb_df['host_is_superhost'] = airbnb_df['host_is_superhost'] == 't'"
   ]
  },
  {
   "cell_type": "code",
   "execution_count": 7,
   "metadata": {
    "collapsed": false,
    "scrolled": true
   },
   "outputs": [
    {
     "data": {
      "text/plain": [
       "False    3033\n",
       "True      777\n",
       "Name: host_is_superhost, dtype: int64"
      ]
     },
     "execution_count": 7,
     "metadata": {},
     "output_type": "execute_result"
    }
   ],
   "source": [
    "airbnb_df['host_is_superhost'].value_counts(dropna=False)"
   ]
  },
  {
   "cell_type": "markdown",
   "metadata": {},
   "source": [
    "#### dates"
   ]
  },
  {
   "cell_type": "code",
   "execution_count": 8,
   "metadata": {
    "collapsed": false
   },
   "outputs": [],
   "source": [
    "# Likewise for dates\n",
    "\n",
    "for c in ['date_listed', 'last_review', 'first_review']:\n",
    "    airbnb_df[c] = pd.to_datetime(airbnb_df[c])\n",
    "\n",
    "# you can also use .astype('datetime64[ns]')"
   ]
  },
  {
   "cell_type": "markdown",
   "metadata": {},
   "source": [
    "(you can actually use the parse_dates param to parse dates columns when reading the CSV, i.e. <br>\n",
    "airbnb_df = pd.read_csv('data/airbnb2.csv', parse_dates=['date_listed', 'last_review', 'first_review']) )"
   ]
  },
  {
   "cell_type": "markdown",
   "metadata": {},
   "source": [
    "<a id='cat'></a>\n",
    "### Categorize columns"
   ]
  },
  {
   "cell_type": "code",
   "execution_count": 9,
   "metadata": {
    "collapsed": false
   },
   "outputs": [
    {
     "data": {
      "text/plain": [
       "Entire home/apt    2538\n",
       "Private room       1155\n",
       "Shared room         117\n",
       "Name: room_type, dtype: int64"
      ]
     },
     "execution_count": 9,
     "metadata": {},
     "output_type": "execute_result"
    }
   ],
   "source": [
    "airbnb_df['room_type'].value_counts(dropna=False)"
   ]
  },
  {
   "cell_type": "code",
   "execution_count": 10,
   "metadata": {
    "collapsed": true
   },
   "outputs": [],
   "source": [
    "airbnb_df['room_type'] = airbnb_df['room_type'].astype('category')"
   ]
  },
  {
   "cell_type": "markdown",
   "metadata": {},
   "source": [
    "....and we'll get back to that soon!"
   ]
  },
  {
   "cell_type": "markdown",
   "metadata": {},
   "source": [
    "<a id='impact'></a>\n",
    "### Impact"
   ]
  },
  {
   "cell_type": "markdown",
   "metadata": {},
   "source": [
    "Finally, we'll see our actions brought down the memory usage by considerable %:<br>\n",
    "(ideally you should obviously optimize every field possible. Another obvious way to save memory is to drop/not import columns you don't need, especially textual ones. In our example, for instance, I completely disregarded the host's email and first and last names)."
   ]
  },
  {
   "cell_type": "code",
   "execution_count": 11,
   "metadata": {
    "collapsed": false,
    "scrolled": true
   },
   "outputs": [
    {
     "name": "stdout",
     "output_type": "stream",
     "text": [
      "<class 'pandas.core.frame.DataFrame'>\n",
      "RangeIndex: 3810 entries, 0 to 3809\n",
      "Data columns (total 31 columns):\n",
      "id                           3810 non-null int64\n",
      "host_location                3802 non-null object\n",
      "host_response_time           3289 non-null object\n",
      "host_response_rate           3810 non-null int64\n",
      "host_acceptance_rate         3810 non-null int64\n",
      "host_is_superhost            3810 non-null bool\n",
      "host_neighbourhood           3513 non-null object\n",
      "host_listings_count          3808 non-null float64\n",
      "host_total_listings_count    3808 non-null float64\n",
      "host_verifications           3810 non-null object\n",
      "host_has_profile_pic         3808 non-null object\n",
      "host_identity_verified       3808 non-null object\n",
      "city                         3810 non-null object\n",
      "state                        3810 non-null object\n",
      "property_type                3809 non-null object\n",
      "room_type                    3810 non-null category\n",
      "accommodates                 3810 non-null int64\n",
      "bathrooms                    3794 non-null float64\n",
      "bedrooms                     3804 non-null float64\n",
      "beds                         3809 non-null float64\n",
      "bed_type                     3810 non-null object\n",
      "price                        3810 non-null float64\n",
      "weekly_price                 3810 non-null float64\n",
      "monthly_price                3810 non-null float64\n",
      "security_deposit             1863 non-null float64\n",
      "cleaning_fee                 2783 non-null float64\n",
      "minimum_nights               3810 non-null int64\n",
      "number_of_reviews            3810 non-null int64\n",
      "first_review                 3184 non-null datetime64[ns]\n",
      "last_review                  3184 non-null datetime64[ns]\n",
      "date_listed                  3810 non-null datetime64[ns]\n",
      "dtypes: bool(1), category(1), datetime64[ns](3), float64(10), int64(6), object(10)\n",
      "memory usage: 2.6 MB\n"
     ]
    }
   ],
   "source": [
    "airbnb_df.info(memory_usage='deep')"
   ]
  },
  {
   "cell_type": "markdown",
   "metadata": {},
   "source": [
    "[Back to top](#toc)"
   ]
  },
  {
   "cell_type": "markdown",
   "metadata": {},
   "source": [
    "---"
   ]
  },
  {
   "cell_type": "markdown",
   "metadata": {},
   "source": [
    "<a id='slice'></a>\n",
    "## Filtering and slicing DFs"
   ]
  },
  {
   "cell_type": "markdown",
   "metadata": {},
   "source": [
    "Skipping .loc, .iloc etc. for some cool stuff:"
   ]
  },
  {
   "cell_type": "markdown",
   "metadata": {},
   "source": [
    "<a id='orderedcats'></a>\n",
    "### Ordered categories"
   ]
  },
  {
   "cell_type": "markdown",
   "metadata": {},
   "source": [
    "One of the cool things about using the category type is that you can 'rank' the different values:"
   ]
  },
  {
   "cell_type": "code",
   "execution_count": 12,
   "metadata": {
    "collapsed": false,
    "scrolled": true
   },
   "outputs": [
    {
     "data": {
      "text/plain": [
       "Entire home/apt    2538\n",
       "Private room       1155\n",
       "Shared room         117\n",
       "dtype: int64"
      ]
     },
     "execution_count": 12,
     "metadata": {},
     "output_type": "execute_result"
    }
   ],
   "source": [
    "airbnb_df['room_type'].value_counts()"
   ]
  },
  {
   "cell_type": "code",
   "execution_count": 13,
   "metadata": {
    "collapsed": true
   },
   "outputs": [],
   "source": [
    "airbnb_df['room_type'] = airbnb_df['room_type'].cat.set_categories(['Shared room', 'Private room', 'Entire home/apt'], \n",
    "                                                                   ordered=True)"
   ]
  },
  {
   "cell_type": "code",
   "execution_count": 14,
   "metadata": {
    "collapsed": false
   },
   "outputs": [
    {
     "name": "stdout",
     "output_type": "stream",
     "text": [
      "(3693, 31)\n"
     ]
    },
    {
     "data": {
      "text/plain": [
       "Entire home/apt    2538\n",
       "Private room       1155\n",
       "Shared room           0\n",
       "dtype: int64"
      ]
     },
     "execution_count": 14,
     "metadata": {},
     "output_type": "execute_result"
    }
   ],
   "source": [
    "print airbnb_df[airbnb_df['room_type']>='Private room'].shape\n",
    "\n",
    "airbnb_df[airbnb_df['room_type']>='Private room']['room_type'].value_counts()"
   ]
  },
  {
   "cell_type": "markdown",
   "metadata": {},
   "source": [
    "<a id='regex'></a>\n",
    "### With regex"
   ]
  },
  {
   "cell_type": "markdown",
   "metadata": {},
   "source": [
    "For example, let's say we want to see all columns that tell us something about the host:"
   ]
  },
  {
   "cell_type": "code",
   "execution_count": 15,
   "metadata": {
    "collapsed": false
   },
   "outputs": [
    {
     "data": {
      "text/html": [
       "<div>\n",
       "<table border=\"1\" class=\"dataframe\">\n",
       "  <thead>\n",
       "    <tr style=\"text-align: right;\">\n",
       "      <th></th>\n",
       "      <th>host_location</th>\n",
       "      <th>host_response_time</th>\n",
       "      <th>host_response_rate</th>\n",
       "      <th>host_acceptance_rate</th>\n",
       "      <th>host_is_superhost</th>\n",
       "      <th>host_neighbourhood</th>\n",
       "      <th>host_listings_count</th>\n",
       "      <th>host_total_listings_count</th>\n",
       "      <th>host_verifications</th>\n",
       "      <th>host_has_profile_pic</th>\n",
       "      <th>host_identity_verified</th>\n",
       "    </tr>\n",
       "  </thead>\n",
       "  <tbody>\n",
       "    <tr>\n",
       "      <th>0</th>\n",
       "      <td>Seattle, Washington, United States</td>\n",
       "      <td>within a few hours</td>\n",
       "      <td>73</td>\n",
       "      <td>85</td>\n",
       "      <td>False</td>\n",
       "      <td>Queen Anne</td>\n",
       "      <td>3.0</td>\n",
       "      <td>3.0</td>\n",
       "      <td>['email', 'phone', 'reviews', 'kba']</td>\n",
       "      <td>t</td>\n",
       "      <td>t</td>\n",
       "    </tr>\n",
       "    <tr>\n",
       "      <th>1</th>\n",
       "      <td>Seattle, Washington, United States</td>\n",
       "      <td>within an hour</td>\n",
       "      <td>82</td>\n",
       "      <td>77</td>\n",
       "      <td>True</td>\n",
       "      <td>Queen Anne</td>\n",
       "      <td>6.0</td>\n",
       "      <td>6.0</td>\n",
       "      <td>['email', 'phone', 'facebook', 'linkedin', 're...</td>\n",
       "      <td>t</td>\n",
       "      <td>t</td>\n",
       "    </tr>\n",
       "    <tr>\n",
       "      <th>2</th>\n",
       "      <td>Seattle, Washington, United States</td>\n",
       "      <td>within a few hours</td>\n",
       "      <td>98</td>\n",
       "      <td>94</td>\n",
       "      <td>False</td>\n",
       "      <td>Queen Anne</td>\n",
       "      <td>2.0</td>\n",
       "      <td>2.0</td>\n",
       "      <td>['email', 'phone', 'google', 'reviews', 'jumio']</td>\n",
       "      <td>t</td>\n",
       "      <td>t</td>\n",
       "    </tr>\n",
       "    <tr>\n",
       "      <th>3</th>\n",
       "      <td>Seattle, Washington, United States</td>\n",
       "      <td>NaN</td>\n",
       "      <td>83</td>\n",
       "      <td>86</td>\n",
       "      <td>False</td>\n",
       "      <td>Queen Anne</td>\n",
       "      <td>1.0</td>\n",
       "      <td>1.0</td>\n",
       "      <td>['email', 'phone', 'facebook', 'reviews', 'jum...</td>\n",
       "      <td>t</td>\n",
       "      <td>t</td>\n",
       "    </tr>\n",
       "    <tr>\n",
       "      <th>4</th>\n",
       "      <td>Seattle, Washington, United States</td>\n",
       "      <td>within an hour</td>\n",
       "      <td>88</td>\n",
       "      <td>79</td>\n",
       "      <td>False</td>\n",
       "      <td>Queen Anne</td>\n",
       "      <td>2.0</td>\n",
       "      <td>2.0</td>\n",
       "      <td>['email', 'phone', 'facebook', 'reviews', 'kba']</td>\n",
       "      <td>t</td>\n",
       "      <td>t</td>\n",
       "    </tr>\n",
       "  </tbody>\n",
       "</table>\n",
       "</div>"
      ],
      "text/plain": [
       "                        host_location  host_response_time  host_response_rate  \\\n",
       "0  Seattle, Washington, United States  within a few hours                  73   \n",
       "1  Seattle, Washington, United States      within an hour                  82   \n",
       "2  Seattle, Washington, United States  within a few hours                  98   \n",
       "3  Seattle, Washington, United States                 NaN                  83   \n",
       "4  Seattle, Washington, United States      within an hour                  88   \n",
       "\n",
       "   host_acceptance_rate host_is_superhost host_neighbourhood  \\\n",
       "0                    85             False         Queen Anne   \n",
       "1                    77              True         Queen Anne   \n",
       "2                    94             False         Queen Anne   \n",
       "3                    86             False         Queen Anne   \n",
       "4                    79             False         Queen Anne   \n",
       "\n",
       "   host_listings_count  host_total_listings_count  \\\n",
       "0                  3.0                        3.0   \n",
       "1                  6.0                        6.0   \n",
       "2                  2.0                        2.0   \n",
       "3                  1.0                        1.0   \n",
       "4                  2.0                        2.0   \n",
       "\n",
       "                                  host_verifications host_has_profile_pic  \\\n",
       "0               ['email', 'phone', 'reviews', 'kba']                    t   \n",
       "1  ['email', 'phone', 'facebook', 'linkedin', 're...                    t   \n",
       "2   ['email', 'phone', 'google', 'reviews', 'jumio']                    t   \n",
       "3  ['email', 'phone', 'facebook', 'reviews', 'jum...                    t   \n",
       "4   ['email', 'phone', 'facebook', 'reviews', 'kba']                    t   \n",
       "\n",
       "  host_identity_verified  \n",
       "0                      t  \n",
       "1                      t  \n",
       "2                      t  \n",
       "3                      t  \n",
       "4                      t  "
      ]
     },
     "execution_count": 15,
     "metadata": {},
     "output_type": "execute_result"
    }
   ],
   "source": [
    "airbnb_df.filter(like='host', axis=1).head()"
   ]
  },
  {
   "cell_type": "markdown",
   "metadata": {},
   "source": [
    "Or if we want to see all fees and prices:"
   ]
  },
  {
   "cell_type": "code",
   "execution_count": 16,
   "metadata": {
    "collapsed": false
   },
   "outputs": [
    {
     "data": {
      "text/html": [
       "<div>\n",
       "<table border=\"1\" class=\"dataframe\">\n",
       "  <thead>\n",
       "    <tr style=\"text-align: right;\">\n",
       "      <th></th>\n",
       "      <th>price</th>\n",
       "      <th>weekly_price</th>\n",
       "      <th>monthly_price</th>\n",
       "      <th>security_deposit</th>\n",
       "      <th>cleaning_fee</th>\n",
       "    </tr>\n",
       "  </thead>\n",
       "  <tbody>\n",
       "    <tr>\n",
       "      <th>0</th>\n",
       "      <td>85.0</td>\n",
       "      <td>595.0</td>\n",
       "      <td>2550.0</td>\n",
       "      <td>NaN</td>\n",
       "      <td>NaN</td>\n",
       "    </tr>\n",
       "    <tr>\n",
       "      <th>1</th>\n",
       "      <td>150.0</td>\n",
       "      <td>1000.0</td>\n",
       "      <td>3000.0</td>\n",
       "      <td>100.0</td>\n",
       "      <td>40.0</td>\n",
       "    </tr>\n",
       "    <tr>\n",
       "      <th>2</th>\n",
       "      <td>975.0</td>\n",
       "      <td>6825.0</td>\n",
       "      <td>29250.0</td>\n",
       "      <td>1000.0</td>\n",
       "      <td>300.0</td>\n",
       "    </tr>\n",
       "    <tr>\n",
       "      <th>3</th>\n",
       "      <td>100.0</td>\n",
       "      <td>650.0</td>\n",
       "      <td>2300.0</td>\n",
       "      <td>NaN</td>\n",
       "      <td>NaN</td>\n",
       "    </tr>\n",
       "    <tr>\n",
       "      <th>4</th>\n",
       "      <td>450.0</td>\n",
       "      <td>3150.0</td>\n",
       "      <td>13500.0</td>\n",
       "      <td>700.0</td>\n",
       "      <td>125.0</td>\n",
       "    </tr>\n",
       "  </tbody>\n",
       "</table>\n",
       "</div>"
      ],
      "text/plain": [
       "   price  weekly_price  monthly_price  security_deposit  cleaning_fee\n",
       "0   85.0         595.0         2550.0               NaN           NaN\n",
       "1  150.0        1000.0         3000.0             100.0          40.0\n",
       "2  975.0        6825.0        29250.0            1000.0         300.0\n",
       "3  100.0         650.0         2300.0               NaN           NaN\n",
       "4  450.0        3150.0        13500.0             700.0         125.0"
      ]
     },
     "execution_count": 16,
     "metadata": {},
     "output_type": "execute_result"
    }
   ],
   "source": [
    "airbnb_df.filter(regex='fee|price|deposit', axis=1).head()"
   ]
  },
  {
   "cell_type": "markdown",
   "metadata": {},
   "source": [
    "[Back to top](#toc)"
   ]
  },
  {
   "cell_type": "markdown",
   "metadata": {},
   "source": [
    "---"
   ]
  },
  {
   "cell_type": "markdown",
   "metadata": {},
   "source": [
    "<a id='groupby'></a>\n",
    "## Group By"
   ]
  },
  {
   "cell_type": "markdown",
   "metadata": {},
   "source": [
    "<a id='mulaggfunc'></a>\n",
    "### Multiple aggfuncs"
   ]
  },
  {
   "cell_type": "markdown",
   "metadata": {},
   "source": [
    "One of the cool things about groupby is that we can apply a different aggregation function (or multiple functions!) to each measure:"
   ]
  },
  {
   "cell_type": "code",
   "execution_count": 17,
   "metadata": {
    "collapsed": false
   },
   "outputs": [
    {
     "data": {
      "text/html": [
       "<div>\n",
       "<table border=\"1\" class=\"dataframe\">\n",
       "  <thead>\n",
       "    <tr>\n",
       "      <th></th>\n",
       "      <th>bedrooms</th>\n",
       "      <th>bathrooms</th>\n",
       "      <th colspan=\"2\" halign=\"left\">accommodates</th>\n",
       "    </tr>\n",
       "    <tr>\n",
       "      <th></th>\n",
       "      <th>max</th>\n",
       "      <th>median</th>\n",
       "      <th>mean</th>\n",
       "      <th>median</th>\n",
       "    </tr>\n",
       "    <tr>\n",
       "      <th>property_type</th>\n",
       "      <th></th>\n",
       "      <th></th>\n",
       "      <th></th>\n",
       "      <th></th>\n",
       "    </tr>\n",
       "  </thead>\n",
       "  <tbody>\n",
       "    <tr>\n",
       "      <th>Apartment</th>\n",
       "      <td>4.0</td>\n",
       "      <td>1.0</td>\n",
       "      <td>3.105572</td>\n",
       "      <td>3.0</td>\n",
       "    </tr>\n",
       "    <tr>\n",
       "      <th>Bed &amp; Breakfast</th>\n",
       "      <td>1.0</td>\n",
       "      <td>1.0</td>\n",
       "      <td>2.216216</td>\n",
       "      <td>2.0</td>\n",
       "    </tr>\n",
       "    <tr>\n",
       "      <th>Boat</th>\n",
       "      <td>4.0</td>\n",
       "      <td>1.5</td>\n",
       "      <td>3.125000</td>\n",
       "      <td>2.0</td>\n",
       "    </tr>\n",
       "    <tr>\n",
       "      <th>Bungalow</th>\n",
       "      <td>4.0</td>\n",
       "      <td>1.0</td>\n",
       "      <td>2.846154</td>\n",
       "      <td>2.0</td>\n",
       "    </tr>\n",
       "    <tr>\n",
       "      <th>Cabin</th>\n",
       "      <td>2.0</td>\n",
       "      <td>1.0</td>\n",
       "      <td>2.666667</td>\n",
       "      <td>2.0</td>\n",
       "    </tr>\n",
       "    <tr>\n",
       "      <th>Camper/RV</th>\n",
       "      <td>1.0</td>\n",
       "      <td>1.0</td>\n",
       "      <td>2.615385</td>\n",
       "      <td>2.0</td>\n",
       "    </tr>\n",
       "    <tr>\n",
       "      <th>Chalet</th>\n",
       "      <td>1.0</td>\n",
       "      <td>1.0</td>\n",
       "      <td>2.500000</td>\n",
       "      <td>2.5</td>\n",
       "    </tr>\n",
       "    <tr>\n",
       "      <th>Condominium</th>\n",
       "      <td>3.0</td>\n",
       "      <td>1.0</td>\n",
       "      <td>3.406593</td>\n",
       "      <td>4.0</td>\n",
       "    </tr>\n",
       "    <tr>\n",
       "      <th>Dorm</th>\n",
       "      <td>1.0</td>\n",
       "      <td>4.0</td>\n",
       "      <td>8.000000</td>\n",
       "      <td>8.0</td>\n",
       "    </tr>\n",
       "    <tr>\n",
       "      <th>House</th>\n",
       "      <td>7.0</td>\n",
       "      <td>1.0</td>\n",
       "      <td>3.647569</td>\n",
       "      <td>3.0</td>\n",
       "    </tr>\n",
       "    <tr>\n",
       "      <th>Loft</th>\n",
       "      <td>2.0</td>\n",
       "      <td>1.0</td>\n",
       "      <td>3.000000</td>\n",
       "      <td>2.0</td>\n",
       "    </tr>\n",
       "    <tr>\n",
       "      <th>Other</th>\n",
       "      <td>2.0</td>\n",
       "      <td>1.0</td>\n",
       "      <td>2.363636</td>\n",
       "      <td>2.0</td>\n",
       "    </tr>\n",
       "    <tr>\n",
       "      <th>Tent</th>\n",
       "      <td>1.0</td>\n",
       "      <td>0.5</td>\n",
       "      <td>2.200000</td>\n",
       "      <td>2.0</td>\n",
       "    </tr>\n",
       "    <tr>\n",
       "      <th>Townhouse</th>\n",
       "      <td>4.0</td>\n",
       "      <td>1.5</td>\n",
       "      <td>3.457627</td>\n",
       "      <td>2.0</td>\n",
       "    </tr>\n",
       "    <tr>\n",
       "      <th>Treehouse</th>\n",
       "      <td>1.0</td>\n",
       "      <td>1.0</td>\n",
       "      <td>1.666667</td>\n",
       "      <td>2.0</td>\n",
       "    </tr>\n",
       "    <tr>\n",
       "      <th>Yurt</th>\n",
       "      <td>0.0</td>\n",
       "      <td>1.0</td>\n",
       "      <td>3.000000</td>\n",
       "      <td>3.0</td>\n",
       "    </tr>\n",
       "  </tbody>\n",
       "</table>\n",
       "</div>"
      ],
      "text/plain": [
       "                bedrooms bathrooms accommodates       \n",
       "                     max    median         mean median\n",
       "property_type                                         \n",
       "Apartment            4.0       1.0     3.105572    3.0\n",
       "Bed & Breakfast      1.0       1.0     2.216216    2.0\n",
       "Boat                 4.0       1.5     3.125000    2.0\n",
       "Bungalow             4.0       1.0     2.846154    2.0\n",
       "Cabin                2.0       1.0     2.666667    2.0\n",
       "Camper/RV            1.0       1.0     2.615385    2.0\n",
       "Chalet               1.0       1.0     2.500000    2.5\n",
       "Condominium          3.0       1.0     3.406593    4.0\n",
       "Dorm                 1.0       4.0     8.000000    8.0\n",
       "House                7.0       1.0     3.647569    3.0\n",
       "Loft                 2.0       1.0     3.000000    2.0\n",
       "Other                2.0       1.0     2.363636    2.0\n",
       "Tent                 1.0       0.5     2.200000    2.0\n",
       "Townhouse            4.0       1.5     3.457627    2.0\n",
       "Treehouse            1.0       1.0     1.666667    2.0\n",
       "Yurt                 0.0       1.0     3.000000    3.0"
      ]
     },
     "execution_count": 17,
     "metadata": {},
     "output_type": "execute_result"
    }
   ],
   "source": [
    "airbnb_df.groupby('property_type').agg({'accommodates':[np.mean, np.median], 'bedrooms':max, 'bathrooms':np.median})"
   ]
  },
  {
   "cell_type": "markdown",
   "metadata": {},
   "source": [
    "(we can flatten the hierarchical index if we'd like to:)"
   ]
  },
  {
   "cell_type": "code",
   "execution_count": 18,
   "metadata": {
    "collapsed": false
   },
   "outputs": [
    {
     "data": {
      "text/html": [
       "<div>\n",
       "<table border=\"1\" class=\"dataframe\">\n",
       "  <thead>\n",
       "    <tr style=\"text-align: right;\">\n",
       "      <th></th>\n",
       "      <th>bedrooms_max</th>\n",
       "      <th>bathrooms_median</th>\n",
       "      <th>accommodates_mean</th>\n",
       "      <th>accommodates_median</th>\n",
       "    </tr>\n",
       "    <tr>\n",
       "      <th>property_type</th>\n",
       "      <th></th>\n",
       "      <th></th>\n",
       "      <th></th>\n",
       "      <th></th>\n",
       "    </tr>\n",
       "  </thead>\n",
       "  <tbody>\n",
       "    <tr>\n",
       "      <th>Apartment</th>\n",
       "      <td>4.0</td>\n",
       "      <td>1.0</td>\n",
       "      <td>3.105572</td>\n",
       "      <td>3.0</td>\n",
       "    </tr>\n",
       "    <tr>\n",
       "      <th>Bed &amp; Breakfast</th>\n",
       "      <td>1.0</td>\n",
       "      <td>1.0</td>\n",
       "      <td>2.216216</td>\n",
       "      <td>2.0</td>\n",
       "    </tr>\n",
       "    <tr>\n",
       "      <th>Boat</th>\n",
       "      <td>4.0</td>\n",
       "      <td>1.5</td>\n",
       "      <td>3.125000</td>\n",
       "      <td>2.0</td>\n",
       "    </tr>\n",
       "    <tr>\n",
       "      <th>Bungalow</th>\n",
       "      <td>4.0</td>\n",
       "      <td>1.0</td>\n",
       "      <td>2.846154</td>\n",
       "      <td>2.0</td>\n",
       "    </tr>\n",
       "    <tr>\n",
       "      <th>Cabin</th>\n",
       "      <td>2.0</td>\n",
       "      <td>1.0</td>\n",
       "      <td>2.666667</td>\n",
       "      <td>2.0</td>\n",
       "    </tr>\n",
       "    <tr>\n",
       "      <th>Camper/RV</th>\n",
       "      <td>1.0</td>\n",
       "      <td>1.0</td>\n",
       "      <td>2.615385</td>\n",
       "      <td>2.0</td>\n",
       "    </tr>\n",
       "    <tr>\n",
       "      <th>Chalet</th>\n",
       "      <td>1.0</td>\n",
       "      <td>1.0</td>\n",
       "      <td>2.500000</td>\n",
       "      <td>2.5</td>\n",
       "    </tr>\n",
       "    <tr>\n",
       "      <th>Condominium</th>\n",
       "      <td>3.0</td>\n",
       "      <td>1.0</td>\n",
       "      <td>3.406593</td>\n",
       "      <td>4.0</td>\n",
       "    </tr>\n",
       "    <tr>\n",
       "      <th>Dorm</th>\n",
       "      <td>1.0</td>\n",
       "      <td>4.0</td>\n",
       "      <td>8.000000</td>\n",
       "      <td>8.0</td>\n",
       "    </tr>\n",
       "    <tr>\n",
       "      <th>House</th>\n",
       "      <td>7.0</td>\n",
       "      <td>1.0</td>\n",
       "      <td>3.647569</td>\n",
       "      <td>3.0</td>\n",
       "    </tr>\n",
       "    <tr>\n",
       "      <th>Loft</th>\n",
       "      <td>2.0</td>\n",
       "      <td>1.0</td>\n",
       "      <td>3.000000</td>\n",
       "      <td>2.0</td>\n",
       "    </tr>\n",
       "    <tr>\n",
       "      <th>Other</th>\n",
       "      <td>2.0</td>\n",
       "      <td>1.0</td>\n",
       "      <td>2.363636</td>\n",
       "      <td>2.0</td>\n",
       "    </tr>\n",
       "    <tr>\n",
       "      <th>Tent</th>\n",
       "      <td>1.0</td>\n",
       "      <td>0.5</td>\n",
       "      <td>2.200000</td>\n",
       "      <td>2.0</td>\n",
       "    </tr>\n",
       "    <tr>\n",
       "      <th>Townhouse</th>\n",
       "      <td>4.0</td>\n",
       "      <td>1.5</td>\n",
       "      <td>3.457627</td>\n",
       "      <td>2.0</td>\n",
       "    </tr>\n",
       "    <tr>\n",
       "      <th>Treehouse</th>\n",
       "      <td>1.0</td>\n",
       "      <td>1.0</td>\n",
       "      <td>1.666667</td>\n",
       "      <td>2.0</td>\n",
       "    </tr>\n",
       "    <tr>\n",
       "      <th>Yurt</th>\n",
       "      <td>0.0</td>\n",
       "      <td>1.0</td>\n",
       "      <td>3.000000</td>\n",
       "      <td>3.0</td>\n",
       "    </tr>\n",
       "  </tbody>\n",
       "</table>\n",
       "</div>"
      ],
      "text/plain": [
       "                 bedrooms_max  bathrooms_median  accommodates_mean  \\\n",
       "property_type                                                        \n",
       "Apartment                 4.0               1.0           3.105572   \n",
       "Bed & Breakfast           1.0               1.0           2.216216   \n",
       "Boat                      4.0               1.5           3.125000   \n",
       "Bungalow                  4.0               1.0           2.846154   \n",
       "Cabin                     2.0               1.0           2.666667   \n",
       "Camper/RV                 1.0               1.0           2.615385   \n",
       "Chalet                    1.0               1.0           2.500000   \n",
       "Condominium               3.0               1.0           3.406593   \n",
       "Dorm                      1.0               4.0           8.000000   \n",
       "House                     7.0               1.0           3.647569   \n",
       "Loft                      2.0               1.0           3.000000   \n",
       "Other                     2.0               1.0           2.363636   \n",
       "Tent                      1.0               0.5           2.200000   \n",
       "Townhouse                 4.0               1.5           3.457627   \n",
       "Treehouse                 1.0               1.0           1.666667   \n",
       "Yurt                      0.0               1.0           3.000000   \n",
       "\n",
       "                 accommodates_median  \n",
       "property_type                         \n",
       "Apartment                        3.0  \n",
       "Bed & Breakfast                  2.0  \n",
       "Boat                             2.0  \n",
       "Bungalow                         2.0  \n",
       "Cabin                            2.0  \n",
       "Camper/RV                        2.0  \n",
       "Chalet                           2.5  \n",
       "Condominium                      4.0  \n",
       "Dorm                             8.0  \n",
       "House                            3.0  \n",
       "Loft                             2.0  \n",
       "Other                            2.0  \n",
       "Tent                             2.0  \n",
       "Townhouse                        2.0  \n",
       "Treehouse                        2.0  \n",
       "Yurt                             3.0  "
      ]
     },
     "execution_count": 18,
     "metadata": {},
     "output_type": "execute_result"
    }
   ],
   "source": [
    "airbnbgp = airbnb_df.groupby('property_type').agg({'accommodates':[np.mean, np.median], \n",
    "                                                   'bedrooms':max, 'bathrooms':np.median})\n",
    "\n",
    "# I'm not familiar with a better way to flatten the multi-index on headers. \n",
    "# Doing this explicitly below for sake of presentation.\n",
    "\n",
    "top = list(airbnbgp.columns.get_level_values(0))\n",
    "bottom = list(airbnbgp.columns.get_level_values(1))\n",
    "flat = [top[i]+'_'+bottom[i] for i in range(len(top))]\n",
    "airbnbgp.columns = flat\n",
    "\n",
    "airbnbgp"
   ]
  },
  {
   "cell_type": "markdown",
   "metadata": {},
   "source": [
    "<a id='customaggfuncs'></a>\n",
    "### Custom aggfuncs"
   ]
  },
  {
   "cell_type": "markdown",
   "metadata": {},
   "source": [
    "What's _really_ cool is that you can use a custom aggfunc. For example:"
   ]
  },
  {
   "cell_type": "code",
   "execution_count": 19,
   "metadata": {
    "collapsed": false
   },
   "outputs": [
    {
     "data": {
      "text/plain": [
       "property_type\n",
       "Apartment          1213.50\n",
       "Bed & Breakfast      27.00\n",
       "Boat                  5.25\n",
       "Bungalow              9.75\n",
       "Cabin                14.25\n",
       "Camper/RV             9.00\n",
       "Chalet                1.50\n",
       "Condominium          66.75\n",
       "Dorm                  1.50\n",
       "House              1254.75\n",
       "Loft                 28.50\n",
       "Other                15.00\n",
       "Tent                  1.50\n",
       "Townhouse            84.75\n",
       "Treehouse             2.25\n",
       "Yurt                  0.75\n",
       "Name: bed_type, dtype: float64"
      ]
     },
     "execution_count": 19,
     "metadata": {},
     "output_type": "execute_result"
    }
   ],
   "source": [
    "airbnb_df.groupby('property_type')['bed_type'].agg(lambda x: (x=='Real Bed').sum()*0.75)"
   ]
  },
  {
   "cell_type": "markdown",
   "metadata": {},
   "source": [
    "[Back to top](#toc)"
   ]
  },
  {
   "cell_type": "markdown",
   "metadata": {},
   "source": [
    "---"
   ]
  },
  {
   "cell_type": "markdown",
   "metadata": {},
   "source": [
    "<a id='tears'></a>\n",
    "## Date manipulations without tears (hopefully)"
   ]
  },
  {
   "cell_type": "markdown",
   "metadata": {},
   "source": [
    "<a id='toperiod'></a>\n",
    "### to_period()"
   ]
  },
  {
   "cell_type": "markdown",
   "metadata": {},
   "source": [
    "Let's add the month-year of listing"
   ]
  },
  {
   "cell_type": "code",
   "execution_count": 20,
   "metadata": {
    "collapsed": false
   },
   "outputs": [],
   "source": [
    "airbnb_df['listed_year_month'] = airbnb_df['date_listed'].dt.to_period('M')"
   ]
  },
  {
   "cell_type": "code",
   "execution_count": 21,
   "metadata": {
    "collapsed": false
   },
   "outputs": [
    {
     "data": {
      "text/html": [
       "<div>\n",
       "<table border=\"1\" class=\"dataframe\">\n",
       "  <thead>\n",
       "    <tr style=\"text-align: right;\">\n",
       "      <th></th>\n",
       "      <th>date_listed</th>\n",
       "      <th>listed_year_month</th>\n",
       "    </tr>\n",
       "  </thead>\n",
       "  <tbody>\n",
       "    <tr>\n",
       "      <th>0</th>\n",
       "      <td>2016-05-30</td>\n",
       "      <td>2016-05</td>\n",
       "    </tr>\n",
       "    <tr>\n",
       "      <th>1</th>\n",
       "      <td>2016-06-26</td>\n",
       "      <td>2016-06</td>\n",
       "    </tr>\n",
       "    <tr>\n",
       "      <th>2</th>\n",
       "      <td>2016-01-30</td>\n",
       "      <td>2016-01</td>\n",
       "    </tr>\n",
       "    <tr>\n",
       "      <th>3</th>\n",
       "      <td>2016-01-02</td>\n",
       "      <td>2016-01</td>\n",
       "    </tr>\n",
       "    <tr>\n",
       "      <th>4</th>\n",
       "      <td>2016-07-30</td>\n",
       "      <td>2016-07</td>\n",
       "    </tr>\n",
       "    <tr>\n",
       "      <th>5</th>\n",
       "      <td>2016-02-06</td>\n",
       "      <td>2016-02</td>\n",
       "    </tr>\n",
       "  </tbody>\n",
       "</table>\n",
       "</div>"
      ],
      "text/plain": [
       "  date_listed listed_year_month\n",
       "0  2016-05-30           2016-05\n",
       "1  2016-06-26           2016-06\n",
       "2  2016-01-30           2016-01\n",
       "3  2016-01-02           2016-01\n",
       "4  2016-07-30           2016-07\n",
       "5  2016-02-06           2016-02"
      ]
     },
     "execution_count": 21,
     "metadata": {},
     "output_type": "execute_result"
    }
   ],
   "source": [
    "airbnb_df.loc[0:5, ['date_listed', 'listed_year_month']]"
   ]
  },
  {
   "cell_type": "markdown",
   "metadata": {},
   "source": [
    "What if we want to know what day of the week the listing was added?"
   ]
  },
  {
   "cell_type": "code",
   "execution_count": 22,
   "metadata": {
    "collapsed": false,
    "scrolled": false
   },
   "outputs": [
    {
     "data": {
      "text/html": [
       "<div>\n",
       "<table border=\"1\" class=\"dataframe\">\n",
       "  <thead>\n",
       "    <tr style=\"text-align: right;\">\n",
       "      <th></th>\n",
       "      <th>date_listed</th>\n",
       "      <th>listed_year_month</th>\n",
       "      <th>day_of_week</th>\n",
       "    </tr>\n",
       "  </thead>\n",
       "  <tbody>\n",
       "    <tr>\n",
       "      <th>0</th>\n",
       "      <td>2016-05-30</td>\n",
       "      <td>2016-05</td>\n",
       "      <td>0</td>\n",
       "    </tr>\n",
       "    <tr>\n",
       "      <th>1</th>\n",
       "      <td>2016-06-26</td>\n",
       "      <td>2016-06</td>\n",
       "      <td>6</td>\n",
       "    </tr>\n",
       "    <tr>\n",
       "      <th>2</th>\n",
       "      <td>2016-01-30</td>\n",
       "      <td>2016-01</td>\n",
       "      <td>5</td>\n",
       "    </tr>\n",
       "    <tr>\n",
       "      <th>3</th>\n",
       "      <td>2016-01-02</td>\n",
       "      <td>2016-01</td>\n",
       "      <td>5</td>\n",
       "    </tr>\n",
       "    <tr>\n",
       "      <th>4</th>\n",
       "      <td>2016-07-30</td>\n",
       "      <td>2016-07</td>\n",
       "      <td>5</td>\n",
       "    </tr>\n",
       "    <tr>\n",
       "      <th>5</th>\n",
       "      <td>2016-02-06</td>\n",
       "      <td>2016-02</td>\n",
       "      <td>5</td>\n",
       "    </tr>\n",
       "  </tbody>\n",
       "</table>\n",
       "</div>"
      ],
      "text/plain": [
       "  date_listed listed_year_month  day_of_week\n",
       "0  2016-05-30           2016-05            0\n",
       "1  2016-06-26           2016-06            6\n",
       "2  2016-01-30           2016-01            5\n",
       "3  2016-01-02           2016-01            5\n",
       "4  2016-07-30           2016-07            5\n",
       "5  2016-02-06           2016-02            5"
      ]
     },
     "execution_count": 22,
     "metadata": {},
     "output_type": "execute_result"
    }
   ],
   "source": [
    "airbnb_df['day_of_week'] = airbnb_df['date_listed'].dt.dayofweek  # Number, Monday == 0\n",
    "\n",
    "airbnb_df.loc[0:5, ['date_listed', 'listed_year_month', 'day_of_week']]"
   ]
  },
  {
   "cell_type": "markdown",
   "metadata": {},
   "source": [
    "<a id='resample'></a>\n",
    "## resample()"
   ]
  },
  {
   "cell_type": "markdown",
   "metadata": {},
   "source": [
    "Let's look at some aggregate numbers:"
   ]
  },
  {
   "cell_type": "code",
   "execution_count": 23,
   "metadata": {
    "collapsed": false
   },
   "outputs": [
    {
     "data": {
      "text/html": [
       "<div>\n",
       "<table border=\"1\" class=\"dataframe\">\n",
       "  <thead>\n",
       "    <tr style=\"text-align: right;\">\n",
       "      <th></th>\n",
       "      <th>num_listings</th>\n",
       "    </tr>\n",
       "    <tr>\n",
       "      <th>date_listed</th>\n",
       "      <th></th>\n",
       "    </tr>\n",
       "  </thead>\n",
       "  <tbody>\n",
       "    <tr>\n",
       "      <th>2016-01-01</th>\n",
       "      <td>3</td>\n",
       "    </tr>\n",
       "    <tr>\n",
       "      <th>2016-01-02</th>\n",
       "      <td>13</td>\n",
       "    </tr>\n",
       "    <tr>\n",
       "      <th>2016-01-03</th>\n",
       "      <td>10</td>\n",
       "    </tr>\n",
       "    <tr>\n",
       "      <th>2016-01-04</th>\n",
       "      <td>8</td>\n",
       "    </tr>\n",
       "    <tr>\n",
       "      <th>2016-01-05</th>\n",
       "      <td>8</td>\n",
       "    </tr>\n",
       "    <tr>\n",
       "      <th>2016-01-06</th>\n",
       "      <td>8</td>\n",
       "    </tr>\n",
       "    <tr>\n",
       "      <th>2016-01-07</th>\n",
       "      <td>16</td>\n",
       "    </tr>\n",
       "    <tr>\n",
       "      <th>2016-01-08</th>\n",
       "      <td>17</td>\n",
       "    </tr>\n",
       "    <tr>\n",
       "      <th>2016-01-09</th>\n",
       "      <td>6</td>\n",
       "    </tr>\n",
       "    <tr>\n",
       "      <th>2016-01-10</th>\n",
       "      <td>11</td>\n",
       "    </tr>\n",
       "  </tbody>\n",
       "</table>\n",
       "</div>"
      ],
      "text/plain": [
       "             num_listings\n",
       "date_listed              \n",
       "2016-01-01              3\n",
       "2016-01-02             13\n",
       "2016-01-03             10\n",
       "2016-01-04              8\n",
       "2016-01-05              8\n",
       "2016-01-06              8\n",
       "2016-01-07             16\n",
       "2016-01-08             17\n",
       "2016-01-09              6\n",
       "2016-01-10             11"
      ]
     },
     "execution_count": 23,
     "metadata": {},
     "output_type": "execute_result"
    }
   ],
   "source": [
    "# Number of new listings per day\n",
    "\n",
    "pt = pd.pivot_table(airbnb_df, index='date_listed', values='id', aggfunc=[len])\n",
    "\n",
    "pt.rename(columns={'len':'num_listings'}, inplace=True)\n",
    "\n",
    "pt.head(10)"
   ]
  },
  {
   "cell_type": "markdown",
   "metadata": {},
   "source": [
    "Now let's say we want to look at the data weekly instead of daily: <br>\n",
    "(there are [so many](http://pandas.pydata.org/pandas-docs/stable/timeseries.html#offset-aliases) options)"
   ]
  },
  {
   "cell_type": "code",
   "execution_count": 24,
   "metadata": {
    "collapsed": false
   },
   "outputs": [
    {
     "data": {
      "text/html": [
       "<div>\n",
       "<table border=\"1\" class=\"dataframe\">\n",
       "  <thead>\n",
       "    <tr style=\"text-align: right;\">\n",
       "      <th></th>\n",
       "      <th>num_listings</th>\n",
       "    </tr>\n",
       "    <tr>\n",
       "      <th>date_listed</th>\n",
       "      <th></th>\n",
       "    </tr>\n",
       "  </thead>\n",
       "  <tbody>\n",
       "    <tr>\n",
       "      <th>2016-01-03</th>\n",
       "      <td>26</td>\n",
       "    </tr>\n",
       "    <tr>\n",
       "      <th>2016-01-10</th>\n",
       "      <td>74</td>\n",
       "    </tr>\n",
       "    <tr>\n",
       "      <th>2016-01-17</th>\n",
       "      <td>60</td>\n",
       "    </tr>\n",
       "    <tr>\n",
       "      <th>2016-01-24</th>\n",
       "      <td>68</td>\n",
       "    </tr>\n",
       "    <tr>\n",
       "      <th>2016-01-31</th>\n",
       "      <td>76</td>\n",
       "    </tr>\n",
       "    <tr>\n",
       "      <th>2016-02-07</th>\n",
       "      <td>85</td>\n",
       "    </tr>\n",
       "    <tr>\n",
       "      <th>2016-02-14</th>\n",
       "      <td>85</td>\n",
       "    </tr>\n",
       "    <tr>\n",
       "      <th>2016-02-21</th>\n",
       "      <td>46</td>\n",
       "    </tr>\n",
       "    <tr>\n",
       "      <th>2016-02-28</th>\n",
       "      <td>66</td>\n",
       "    </tr>\n",
       "    <tr>\n",
       "      <th>2016-03-06</th>\n",
       "      <td>68</td>\n",
       "    </tr>\n",
       "  </tbody>\n",
       "</table>\n",
       "</div>"
      ],
      "text/plain": [
       "             num_listings\n",
       "date_listed              \n",
       "2016-01-03             26\n",
       "2016-01-10             74\n",
       "2016-01-17             60\n",
       "2016-01-24             68\n",
       "2016-01-31             76\n",
       "2016-02-07             85\n",
       "2016-02-14             85\n",
       "2016-02-21             46\n",
       "2016-02-28             66\n",
       "2016-03-06             68"
      ]
     },
     "execution_count": 24,
     "metadata": {},
     "output_type": "execute_result"
    }
   ],
   "source": [
    "pt_weekly = pt.resample('W').sum()\n",
    "\n",
    "pt_weekly.head(10)"
   ]
  },
  {
   "cell_type": "markdown",
   "metadata": {},
   "source": [
    "<a id='daterange'></a>\n",
    "### date_range()"
   ]
  },
  {
   "cell_type": "markdown",
   "metadata": {},
   "source": [
    "Now let's say some of the data was corrupted due to some technical error."
   ]
  },
  {
   "cell_type": "code",
   "execution_count": 25,
   "metadata": {
    "collapsed": false
   },
   "outputs": [
    {
     "data": {
      "text/html": [
       "<div>\n",
       "<table border=\"1\" class=\"dataframe\">\n",
       "  <thead>\n",
       "    <tr style=\"text-align: right;\">\n",
       "      <th></th>\n",
       "      <th>num_listings</th>\n",
       "    </tr>\n",
       "    <tr>\n",
       "      <th>date_listed</th>\n",
       "      <th></th>\n",
       "    </tr>\n",
       "  </thead>\n",
       "  <tbody>\n",
       "    <tr>\n",
       "      <th>2016-01-03</th>\n",
       "      <td>26</td>\n",
       "    </tr>\n",
       "    <tr>\n",
       "      <th>2016-01-10</th>\n",
       "      <td>74</td>\n",
       "    </tr>\n",
       "    <tr>\n",
       "      <th>2016-01-17</th>\n",
       "      <td>60</td>\n",
       "    </tr>\n",
       "    <tr>\n",
       "      <th>2016-01-31</th>\n",
       "      <td>76</td>\n",
       "    </tr>\n",
       "    <tr>\n",
       "      <th>2016-02-14</th>\n",
       "      <td>85</td>\n",
       "    </tr>\n",
       "    <tr>\n",
       "      <th>2016-02-21</th>\n",
       "      <td>46</td>\n",
       "    </tr>\n",
       "    <tr>\n",
       "      <th>2016-03-06</th>\n",
       "      <td>68</td>\n",
       "    </tr>\n",
       "  </tbody>\n",
       "</table>\n",
       "</div>"
      ],
      "text/plain": [
       "             num_listings\n",
       "date_listed              \n",
       "2016-01-03             26\n",
       "2016-01-10             74\n",
       "2016-01-17             60\n",
       "2016-01-31             76\n",
       "2016-02-14             85\n",
       "2016-02-21             46\n",
       "2016-03-06             68"
      ]
     },
     "execution_count": 25,
     "metadata": {},
     "output_type": "execute_result"
    }
   ],
   "source": [
    "pt_weekly.drop(pt_weekly.index[[3, 5, 8]], inplace=True)\n",
    "pt_weekly.head(7)"
   ]
  },
  {
   "cell_type": "markdown",
   "metadata": {},
   "source": [
    "We'll use date_range to generate all the dates we'd expect to see."
   ]
  },
  {
   "cell_type": "code",
   "execution_count": 26,
   "metadata": {
    "collapsed": false
   },
   "outputs": [
    {
     "data": {
      "text/plain": [
       "DatetimeIndex(['2016-01-03', '2016-01-10', '2016-01-17', '2016-01-24',\n",
       "               '2016-01-31', '2016-02-07', '2016-02-14', '2016-02-21',\n",
       "               '2016-02-28', '2016-03-06', '2016-03-13', '2016-03-20',\n",
       "               '2016-03-27', '2016-04-03', '2016-04-10', '2016-04-17',\n",
       "               '2016-04-24', '2016-05-01', '2016-05-08', '2016-05-15',\n",
       "               '2016-05-22', '2016-05-29', '2016-06-05', '2016-06-12',\n",
       "               '2016-06-19', '2016-06-26', '2016-07-03', '2016-07-10',\n",
       "               '2016-07-17', '2016-07-24', '2016-07-31', '2016-08-07',\n",
       "               '2016-08-14', '2016-08-21', '2016-08-28', '2016-09-04',\n",
       "               '2016-09-11', '2016-09-18', '2016-09-25', '2016-10-02',\n",
       "               '2016-10-09', '2016-10-16', '2016-10-23', '2016-10-30',\n",
       "               '2016-11-06', '2016-11-13', '2016-11-20', '2016-11-27',\n",
       "               '2016-12-04', '2016-12-11', '2016-12-18', '2016-12-25'],\n",
       "              dtype='datetime64[ns]', freq='W-SUN')"
      ]
     },
     "execution_count": 26,
     "metadata": {},
     "output_type": "execute_result"
    }
   ],
   "source": [
    "weeks = pd.date_range(start=datetime.date(2016,1,1),\n",
    "                      end=datetime.datetime(2016,12,31),\n",
    "                      freq='W')\n",
    "\n",
    "weeks"
   ]
  },
  {
   "cell_type": "markdown",
   "metadata": {},
   "source": [
    "And we'll add blank rows for the missing periods:"
   ]
  },
  {
   "cell_type": "code",
   "execution_count": 27,
   "metadata": {
    "collapsed": false
   },
   "outputs": [
    {
     "name": "stdout",
     "output_type": "stream",
     "text": [
      "50 rows in the DataFrame before adding rows for missing weeks.\n",
      "Adding 2016-01-24 00:00:00\n",
      "Adding 2016-02-07 00:00:00\n",
      "Adding 2016-02-28 00:00:00\n",
      "53 rows in the DataFrame after adding missing rows.\n"
     ]
    }
   ],
   "source": [
    "print '%d rows in the DataFrame before adding rows for missing weeks.' % pt_weekly.shape[0]\n",
    "\n",
    "for w in list(weeks):\n",
    "    if w not in list(pt_weekly.index):\n",
    "        print 'Adding', w\n",
    "        pt_weekly.loc[w] = None\n",
    "        \n",
    "print '%d rows in the DataFrame after adding missing rows.' % pt_weekly.shape[0]"
   ]
  },
  {
   "cell_type": "code",
   "execution_count": 28,
   "metadata": {
    "collapsed": false
   },
   "outputs": [
    {
     "data": {
      "text/html": [
       "<div>\n",
       "<table border=\"1\" class=\"dataframe\">\n",
       "  <thead>\n",
       "    <tr style=\"text-align: right;\">\n",
       "      <th></th>\n",
       "      <th>num_listings</th>\n",
       "    </tr>\n",
       "  </thead>\n",
       "  <tbody>\n",
       "    <tr>\n",
       "      <th>2016-01-03</th>\n",
       "      <td>26.0</td>\n",
       "    </tr>\n",
       "    <tr>\n",
       "      <th>2016-01-10</th>\n",
       "      <td>74.0</td>\n",
       "    </tr>\n",
       "    <tr>\n",
       "      <th>2016-01-17</th>\n",
       "      <td>60.0</td>\n",
       "    </tr>\n",
       "    <tr>\n",
       "      <th>2016-01-24</th>\n",
       "      <td>NaN</td>\n",
       "    </tr>\n",
       "    <tr>\n",
       "      <th>2016-01-31</th>\n",
       "      <td>76.0</td>\n",
       "    </tr>\n",
       "    <tr>\n",
       "      <th>2016-02-07</th>\n",
       "      <td>NaN</td>\n",
       "    </tr>\n",
       "    <tr>\n",
       "      <th>2016-02-14</th>\n",
       "      <td>85.0</td>\n",
       "    </tr>\n",
       "    <tr>\n",
       "      <th>2016-02-21</th>\n",
       "      <td>46.0</td>\n",
       "    </tr>\n",
       "    <tr>\n",
       "      <th>2016-02-28</th>\n",
       "      <td>NaN</td>\n",
       "    </tr>\n",
       "    <tr>\n",
       "      <th>2016-03-06</th>\n",
       "      <td>68.0</td>\n",
       "    </tr>\n",
       "  </tbody>\n",
       "</table>\n",
       "</div>"
      ],
      "text/plain": [
       "            num_listings\n",
       "2016-01-03          26.0\n",
       "2016-01-10          74.0\n",
       "2016-01-17          60.0\n",
       "2016-01-24           NaN\n",
       "2016-01-31          76.0\n",
       "2016-02-07           NaN\n",
       "2016-02-14          85.0\n",
       "2016-02-21          46.0\n",
       "2016-02-28           NaN\n",
       "2016-03-06          68.0"
      ]
     },
     "execution_count": 28,
     "metadata": {},
     "output_type": "execute_result"
    }
   ],
   "source": [
    "pt_weekly.sort_index(inplace=True)\n",
    "\n",
    "pt_weekly.head(10)"
   ]
  },
  {
   "cell_type": "markdown",
   "metadata": {},
   "source": [
    "Now what do we do about the missing values?<br>\n",
    "Easy solutions: back fill (bfill: **next** valid value) or forward fill (ffill: **previous** valid value).<br>\n",
    "We can (and in many cases should) also think of more sophisticated methods like a mean of the two closest values in time or fitting to a trend, but that's out of today's scope."
   ]
  },
  {
   "cell_type": "code",
   "execution_count": 29,
   "metadata": {
    "collapsed": false
   },
   "outputs": [
    {
     "data": {
      "text/html": [
       "<div>\n",
       "<table border=\"1\" class=\"dataframe\">\n",
       "  <thead>\n",
       "    <tr style=\"text-align: right;\">\n",
       "      <th></th>\n",
       "      <th>num_listings</th>\n",
       "    </tr>\n",
       "  </thead>\n",
       "  <tbody>\n",
       "    <tr>\n",
       "      <th>2016-01-03</th>\n",
       "      <td>26.0</td>\n",
       "    </tr>\n",
       "    <tr>\n",
       "      <th>2016-01-10</th>\n",
       "      <td>74.0</td>\n",
       "    </tr>\n",
       "    <tr>\n",
       "      <th>2016-01-17</th>\n",
       "      <td>60.0</td>\n",
       "    </tr>\n",
       "    <tr>\n",
       "      <th>2016-01-24</th>\n",
       "      <td>76.0</td>\n",
       "    </tr>\n",
       "    <tr>\n",
       "      <th>2016-01-31</th>\n",
       "      <td>76.0</td>\n",
       "    </tr>\n",
       "    <tr>\n",
       "      <th>2016-02-07</th>\n",
       "      <td>85.0</td>\n",
       "    </tr>\n",
       "    <tr>\n",
       "      <th>2016-02-14</th>\n",
       "      <td>85.0</td>\n",
       "    </tr>\n",
       "    <tr>\n",
       "      <th>2016-02-21</th>\n",
       "      <td>46.0</td>\n",
       "    </tr>\n",
       "    <tr>\n",
       "      <th>2016-02-28</th>\n",
       "      <td>68.0</td>\n",
       "    </tr>\n",
       "    <tr>\n",
       "      <th>2016-03-06</th>\n",
       "      <td>68.0</td>\n",
       "    </tr>\n",
       "  </tbody>\n",
       "</table>\n",
       "</div>"
      ],
      "text/plain": [
       "            num_listings\n",
       "2016-01-03          26.0\n",
       "2016-01-10          74.0\n",
       "2016-01-17          60.0\n",
       "2016-01-24          76.0\n",
       "2016-01-31          76.0\n",
       "2016-02-07          85.0\n",
       "2016-02-14          85.0\n",
       "2016-02-21          46.0\n",
       "2016-02-28          68.0\n",
       "2016-03-06          68.0"
      ]
     },
     "execution_count": 29,
     "metadata": {},
     "output_type": "execute_result"
    }
   ],
   "source": [
    "pt_weekly.fillna(method='bfill', inplace=True)\n",
    "pt_weekly.head(10)"
   ]
  },
  {
   "cell_type": "markdown",
   "metadata": {
    "collapsed": true
   },
   "source": [
    "<a id='wow'></a>\n",
    "### WoW changes"
   ]
  },
  {
   "cell_type": "markdown",
   "metadata": {},
   "source": [
    "We can use _diff_ or _shift_ to see how numbers change row to row (or several rows). For example:"
   ]
  },
  {
   "cell_type": "code",
   "execution_count": 30,
   "metadata": {
    "collapsed": false
   },
   "outputs": [
    {
     "data": {
      "text/html": [
       "<div>\n",
       "<table border=\"1\" class=\"dataframe\">\n",
       "  <thead>\n",
       "    <tr style=\"text-align: right;\">\n",
       "      <th></th>\n",
       "      <th>num_listings</th>\n",
       "      <th>WoW</th>\n",
       "    </tr>\n",
       "  </thead>\n",
       "  <tbody>\n",
       "    <tr>\n",
       "      <th>2016-01-03</th>\n",
       "      <td>26.0</td>\n",
       "      <td>NaN</td>\n",
       "    </tr>\n",
       "    <tr>\n",
       "      <th>2016-01-10</th>\n",
       "      <td>74.0</td>\n",
       "      <td>48.0</td>\n",
       "    </tr>\n",
       "    <tr>\n",
       "      <th>2016-01-17</th>\n",
       "      <td>60.0</td>\n",
       "      <td>-14.0</td>\n",
       "    </tr>\n",
       "    <tr>\n",
       "      <th>2016-01-24</th>\n",
       "      <td>76.0</td>\n",
       "      <td>16.0</td>\n",
       "    </tr>\n",
       "    <tr>\n",
       "      <th>2016-01-31</th>\n",
       "      <td>76.0</td>\n",
       "      <td>0.0</td>\n",
       "    </tr>\n",
       "    <tr>\n",
       "      <th>2016-02-07</th>\n",
       "      <td>85.0</td>\n",
       "      <td>9.0</td>\n",
       "    </tr>\n",
       "    <tr>\n",
       "      <th>2016-02-14</th>\n",
       "      <td>85.0</td>\n",
       "      <td>0.0</td>\n",
       "    </tr>\n",
       "    <tr>\n",
       "      <th>2016-02-21</th>\n",
       "      <td>46.0</td>\n",
       "      <td>-39.0</td>\n",
       "    </tr>\n",
       "    <tr>\n",
       "      <th>2016-02-28</th>\n",
       "      <td>68.0</td>\n",
       "      <td>22.0</td>\n",
       "    </tr>\n",
       "    <tr>\n",
       "      <th>2016-03-06</th>\n",
       "      <td>68.0</td>\n",
       "      <td>0.0</td>\n",
       "    </tr>\n",
       "  </tbody>\n",
       "</table>\n",
       "</div>"
      ],
      "text/plain": [
       "            num_listings   WoW\n",
       "2016-01-03          26.0   NaN\n",
       "2016-01-10          74.0  48.0\n",
       "2016-01-17          60.0 -14.0\n",
       "2016-01-24          76.0  16.0\n",
       "2016-01-31          76.0   0.0\n",
       "2016-02-07          85.0   9.0\n",
       "2016-02-14          85.0   0.0\n",
       "2016-02-21          46.0 -39.0\n",
       "2016-02-28          68.0  22.0\n",
       "2016-03-06          68.0   0.0"
      ]
     },
     "execution_count": 30,
     "metadata": {},
     "output_type": "execute_result"
    }
   ],
   "source": [
    "pt_weekly['WoW'] = pt_weekly['num_listings'].diff(periods=1)\n",
    "\n",
    "# Alternatively:\n",
    "#pt_weekly['WoW'] = pt_weekly['num_listings'] - pt_weekly['num_listings'].shift(1)\n",
    "\n",
    "pt_weekly.head(10)"
   ]
  },
  {
   "cell_type": "markdown",
   "metadata": {},
   "source": [
    "[Back to top](#toc)"
   ]
  },
  {
   "cell_type": "markdown",
   "metadata": {},
   "source": [
    "---"
   ]
  },
  {
   "cell_type": "markdown",
   "metadata": {},
   "source": [
    "<a id='19'></a>\n",
    "## What's new in 0.19"
   ]
  },
  {
   "cell_type": "markdown",
   "metadata": {},
   "source": [
    "From the [documentation](http://pandas.pydata.org/pandas-docs/version/0.19.0/whatsnew.html):\n",
    "\n",
    "+ merge_asof() for asof-style time-series joining\n",
    "+ .rolling() is now time-series aware\n",
    "+ read_csv() now supports parsing Categorical data\n",
    "+ A function union_categorical() has been added for combining categoricals\n",
    "+ PeriodIndex now has its own period dtype, and changed to be more consistent with other Index classes. \n",
    "+ Sparse data structures gained enhanced support of int and bool dtypes\n",
    "+ Comparison operations with Series no longer ignores the index, see here for an overview of the API changes.\n",
    "+ Introduction of a pandas development API for utility functions\n",
    "+ Deprecation of Panel4D and PanelND. We recommend to represent these types of n-dimensional data with the xarray package.\n",
    "+ Removal of the previously deprecated modules pandas.io.data, pandas.io.wb, pandas.tools.rplot.\n"
   ]
  },
  {
   "cell_type": "markdown",
   "metadata": {},
   "source": [
    "<a id='20'></a>\n",
    "## What's to come in 0.2?\n",
    "From the [documentation](http://pandas-docs.github.io/pandas-docs-travis/whatsnew.html#v0-20-0-2017):\n",
    "\n",
    "+ New features\n",
    " + dtype keyword for data IO\n",
    " + Groupby Enhancements\n",
    " + Better support for compressed URLs in read_csv\n",
    " + UInt64 Support Improved\n",
    " + Other enhancements\n",
    "\n",
    "+ Backwards incompatible API changes\n",
    " + **Deprecate .ix**\n",
    " + Map on Index types now return other Index types\n",
    " + S3 File Handling\n",
    " + Partial String Indexing Changes\n",
    " + Memory Usage for Index is more Accurate\n",
    " + Groupby Describe Formatting\n",
    " + Other API Changes\n",
    " + Deprecations\n",
    " + Removal of prior version deprecations/changes\n"
   ]
  },
  {
   "cell_type": "markdown",
   "metadata": {},
   "source": [
    "[Back to top](#toc)"
   ]
  },
  {
   "cell_type": "markdown",
   "metadata": {},
   "source": [
    "---"
   ]
  },
  {
   "cell_type": "markdown",
   "metadata": {},
   "source": [
    "<a id='contact'></a>\n",
    "## Contact\n",
    "For your tips and tricks, questions and comments, feel free to contact me in any of the methods mentioned [above](#aboutme)."
   ]
  },
  {
   "cell_type": "markdown",
   "metadata": {},
   "source": [
    "---"
   ]
  },
  {
   "cell_type": "markdown",
   "metadata": {},
   "source": [
    "# Appendix"
   ]
  },
  {
   "cell_type": "markdown",
   "metadata": {
    "collapsed": true
   },
   "source": [
    "<a id='massage'></a>\n",
    "## How I prepared the data for the talk"
   ]
  },
  {
   "cell_type": "code",
   "execution_count": null,
   "metadata": {
    "collapsed": true
   },
   "outputs": [],
   "source": [
    "# Original data set can be found under data/listings.csv. I inspected it and decided to focus on the following cols:\n",
    "\n",
    "cols = ['id', 'host_location', 'city', 'state', 'host_response_time', 'host_response_rate', 'host_acceptance_rate', \n",
    "        'host_is_superhost', 'host_neighbourhood', 'host_listings_count', 'host_total_listings_count', \n",
    "        'host_verifications', 'host_has_profile_pic', 'host_identity_verified', 'property_type', 'room_type', \n",
    "        'accommodates', 'bathrooms', 'bedrooms', 'beds', 'bed_type', 'price', 'weekly_price', 'monthly_price', \n",
    "        'security_deposit', 'cleaning_fee', 'minimum_nights', 'number_of_reviews', 'first_review', 'last_review']"
   ]
  },
  {
   "cell_type": "code",
   "execution_count": null,
   "metadata": {
    "collapsed": false
   },
   "outputs": [],
   "source": [
    "airbnb_df = pd.read_csv('data/listings.csv', usecols=cols)"
   ]
  },
  {
   "cell_type": "code",
   "execution_count": null,
   "metadata": {
    "collapsed": false
   },
   "outputs": [],
   "source": [
    "# Reformatting some of the prices from '$xx.xx' to xx.xx:\n",
    "\n",
    "def remove_ds(x):\n",
    "    try:\n",
    "        return float(x.translate(None, ',$'))\n",
    "    except:\n",
    "        return None\n",
    "\n",
    "for c in ['price', 'security_deposit', 'cleaning_fee', 'weekly_price', 'monthly_price']:    \n",
    "    airbnb_df[c] = airbnb_df[c].apply(remove_ds)"
   ]
  },
  {
   "cell_type": "code",
   "execution_count": null,
   "metadata": {
    "collapsed": true
   },
   "outputs": [],
   "source": [
    "# fillna\n",
    "airbnb_df['weekly_price'].fillna(airbnb_df['price']*7, inplace=True)\n",
    "airbnb_df['monthly_price'].fillna(airbnb_df['price']*30, inplace=True)"
   ]
  },
  {
   "cell_type": "code",
   "execution_count": null,
   "metadata": {
    "collapsed": false
   },
   "outputs": [],
   "source": [
    "# Removing some 'scraping debris'\n",
    "airbnb_df = airbnb_df[airbnb_df['city']=='Seattle']\n",
    "\n",
    "airbnb_df['city'].value_counts(dropna=False)"
   ]
  },
  {
   "cell_type": "code",
   "execution_count": null,
   "metadata": {
    "collapsed": true
   },
   "outputs": [],
   "source": [
    "# For convenience replaced the acceptance and response rates, which were mostly high 90s or NaNs with random values.\n",
    "\n",
    "airbnb_df['host_acceptance_rate'] = np.random.randint(70,100, size=(airbnb_df.shape[0],1))\n",
    "\n",
    "airbnb_df['host_response_rate'] = np.random.randint(70,100, size=(airbnb_df.shape[0],1))"
   ]
  },
  {
   "cell_type": "code",
   "execution_count": null,
   "metadata": {
    "collapsed": false
   },
   "outputs": [],
   "source": [
    "# fillna \n",
    "\n",
    "airbnb_df['host_is_superhost'].fillna('f', inplace=True)"
   ]
  },
  {
   "cell_type": "code",
   "execution_count": null,
   "metadata": {
    "collapsed": false
   },
   "outputs": [],
   "source": [
    "import datetime\n",
    "import random\n",
    "\n",
    "# For east of presentation, replaced the listing_date with random dates, all in 2016.\n",
    "\n",
    "\n",
    "start_date = datetime.date(2016, 1, 1).toordinal()\n",
    "end_date = datetime.datetime(2016, 12, 31).toordinal()\n",
    "\n",
    "random_day = datetime.date.fromordinal(random.randint(start_date, end_date))\n",
    "\n",
    "rand_dates = []\n",
    "for i in range(airbnb_df.shape[0]):\n",
    "    rand_dates.append(datetime.date.fromordinal(random.randint(start_date, end_date)))\n",
    "    \n",
    "airbnb_df['date_listed'] = rand_dates"
   ]
  },
  {
   "cell_type": "code",
   "execution_count": null,
   "metadata": {
    "collapsed": true
   },
   "outputs": [],
   "source": [
    "airbnb_df.to_csv('data/airbnb2.csv', index=False)"
   ]
  }
 ],
 "metadata": {
  "anaconda-cloud": {},
  "kernelspec": {
   "display_name": "Python [conda env:gl-env]",
   "language": "python",
   "name": "conda-env-gl-env-py"
  },
  "language_info": {
   "codemirror_mode": {
    "name": "ipython",
    "version": 2
   },
   "file_extension": ".py",
   "mimetype": "text/x-python",
   "name": "python",
   "nbconvert_exporter": "python",
   "pygments_lexer": "ipython2",
   "version": "2.7.11"
  }
 },
 "nbformat": 4,
 "nbformat_minor": 1
}
